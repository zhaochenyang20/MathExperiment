{
 "cells": [
  {
   "attachments": {},
   "cell_type": "markdown",
   "metadata": {},
   "source": [
    "改写为等价 Python 代码\n",
    "```\n",
    "ts=1:0.05:2; x0=1.6; h=0.2; x=1:h:2; n=length(x);\n",
    "% [t,xx]=ode45(@ode2,ts,x0);\n",
    "% plot(t,xx)\n",
    "% rr=xx(length(xx));\n",
    "y=x0;\n",
    "for k=2:n\n",
    "    yy=y(k-1)+h*(y(k-1)^3-exp(y(k-1))+x(k-1)-1);\n",
    "    y(k)=y(k-1)+h*(y(k-1)^3-exp(y(k-1))+x(k-1)-1+yy^3-exp(yy)+x(k)-1)/2;\n",
    "end\n",
    "plot(x,y,'r');\n",
    "```"
   ]
  },
  {
   "attachments": {},
   "cell_type": "markdown",
   "metadata": {},
   "source": [
    "# 1"
   ]
  },
  {
   "cell_type": "code",
   "execution_count": 3,
   "metadata": {},
   "outputs": [
    {
     "name": "stdout",
     "output_type": "stream",
     "text": [
      "cond_2_A = 1053.4789912002955\n",
      "rho_B_G_S = 0.9962102548359681\n",
      "0.3281543254852295 0.24931016832124442 0.2500069297819607\n",
      "res_norm_1 = 0.08947035611346166\n"
     ]
    }
   ],
   "source": [
    "import numpy as np\n",
    "from scipy.sparse import diags\n",
    "\n",
    "def cal_B_G_S(A):\n",
    "    \"\"\"求 G-S 迭代的迭代矩阵\"\"\" \n",
    "    D = np.diag(np.diag(A))\n",
    "    U = -(np.triu(A) - D)\n",
    "    L = -(np.tril(A) - D)\n",
    "    D_sub_L_inv = np.linalg.inv(D - L)\n",
    "    B_G_S = D_sub_L_inv @ U \n",
    "    \n",
    "    return B_G_S\n",
    "\n",
    "def gauss_sedeil(A, b, x0, tol, max_iter, verbose = True):\n",
    "    x = x0.copy()\n",
    "\n",
    "    # 求 D_sub_L_inv\n",
    "    D = np.diag(np.diag(A))\n",
    "    U = -(np.triu(A) - D)\n",
    "    L = -(np.tril(A) - D)\n",
    "    D_sub_L_inv = np.linalg.inv(D - L)\n",
    "\n",
    "    for i in range(max_iter):\n",
    "        # print(f\"x^({i}) = {x}\")\n",
    "\n",
    "        x_new = D_sub_L_inv @ (U @ x + b)\n",
    "        err = np.linalg.norm(x_new - x)\n",
    "        \n",
    "        x = x_new\n",
    "        if  err < tol:\n",
    "            if verbose: print(f\"Converge after {i+1} iterations\")\n",
    "            break\n",
    "        \n",
    "    if verbose:\n",
    "        print(f\"x^({i+1}) = {x}\")\n",
    "        print(f\"relative error = {err}\")\n",
    "    return x, err\n",
    "\n",
    "order = 2\n",
    "n = 50\n",
    "diag = np.ones(n) * 2\n",
    "subdiag = np.ones(n-1)\n",
    "A = diags([subdiag, diag, subdiag] , [-1, 0, 1]).toarray()\n",
    "\n",
    "# print(f\"A = {A}\")\n",
    "cond_2_A = np.linalg.cond(A, p=order)\n",
    "print(f\"cond_2_A = {cond_2_A}\")\n",
    "\n",
    "B_G_S = cal_B_G_S(A)\n",
    "# print(B_G_S)\n",
    "# 求 B_G_S 的谱半径\n",
    "rho_B_G_S = np.max(np.abs(np.linalg.eigvals(B_G_S)))\n",
    "print(f\"rho_B_G_S = {rho_B_G_S}\")\n",
    "\n",
    "b = np.ones(n)\n",
    "\n",
    "x, err = gauss_sedeil(A=A,b=b,x0=np.zeros(n),tol=1e-6,max_iter=10,verbose = False)\n",
    "\n",
    "print(x[4],x[17],x[26])\n",
    "\n",
    "res_norm_1 = np.linalg.norm((A @ x - b), ord=1)\n",
    "\n",
    "print(f\"res_norm_1 = {res_norm_1}\")"
   ]
  },
  {
   "attachments": {},
   "cell_type": "markdown",
   "metadata": {},
   "source": [
    "# 2"
   ]
  },
  {
   "cell_type": "code",
   "execution_count": 42,
   "metadata": {},
   "outputs": [
    {
     "name": "stdout",
     "output_type": "stream",
     "text": [
      "  message: The solver successfully reached the end of the integration interval.\n",
      "  success: True\n",
      "   status: 0\n",
      "        t: [2]\n",
      "        y: [[ 5.768e-01]]\n",
      "      sol: None\n",
      " t_events: None\n",
      " y_events: None\n",
      "     nfev: 26\n",
      "     njev: 0\n",
      "      nlu: 0\n",
      "[[0.57679596]]\n",
      "1.2 1.4085728650602474\n",
      "1.4 1.1787923832343592\n",
      "1.5999999999999999 0.9445757733278395\n",
      "1.7999999999999998 0.7436230775122011\n",
      "1.9999999999999998 0.5964682610674225\n",
      "t_improved = [1.  1.2 1.4 1.6 1.8 2. ]\n",
      "y_improved = [1.6        1.40857287 1.17879238 0.94457577 0.74362308 0.59646826]\n",
      "improved_euler_value = 0.5964682610674225\n"
     ]
    }
   ],
   "source": [
    "\n",
    "import numpy as np\n",
    "from scipy.integrate import solve_ivp\n",
    "\n",
    "f = lambda t, y: y ** 3 - np.exp(y) + t - 1\n",
    "\n",
    "sol = solve_ivp(\n",
    "        fun=f,\n",
    "        y0=[1.6],\n",
    "        t_span=(1, 3),\n",
    "        t_eval=[2],\n",
    "        # dense_output=True\n",
    ")\n",
    "\n",
    "print(sol)\n",
    "print(sol.y)\n",
    "\n",
    "def improved_euler(f, y0 = 1, t0 = 0, h = 0.1, t_end = 1):\n",
    "    t = np.arange(t0, t_end + 0.1 * h, h)\n",
    "    n = len(t)\n",
    "    y = np.zeros(n)\n",
    "    y[0] = y0\n",
    "\n",
    "    for i in range(n-1):\n",
    "        y_expected = y[i] + h * f(t[i], y[i])\n",
    "        y[i+1] = y[i] + h / 2 * (f(t[i], y[i]) + f(t[i+1], y_expected))\n",
    "        print(t[i+1], y[i+1])\n",
    "    return t, y\n",
    "\n",
    "y0 = 1.6\n",
    "t0 = 1\n",
    "h = 0.2\n",
    "t_end = 2\n",
    "\n",
    "# 改进欧拉法\n",
    "t_improved, y_improved = improved_euler(f, y0, t0, h, t_end)\n",
    "print(f\"t_improved = {t_improved}\")\n",
    "print(f\"y_improved = {y_improved}\")\n",
    "improved_euler_value = y_improved[-1]\n",
    "print(f\"improved_euler_value = {improved_euler_value}\")"
   ]
  },
  {
   "cell_type": "code",
   "execution_count": 38,
   "metadata": {},
   "outputs": [
    {
     "name": "stdout",
     "output_type": "stream",
     "text": [
      "1.9999999999999998 0.5964682610674225\n"
     ]
    },
    {
     "data": {
      "image/png": "[encoded data removed]",
      "text/plain": [
       "<Figure size 640x480 with 1 Axes>"
      ]
     },
     "metadata": {},
     "output_type": "display_data"
    }
   ],
   "source": [
    "import numpy as np\n",
    "import matplotlib.pyplot as plt\n",
    "\n",
    "x0 = 1.6\n",
    "h = 0.2\n",
    "x = np.arange(1, 2+ 0.5 * h, h)\n",
    "n = len(x)\n",
    "\n",
    "def ode2(y, t):\n",
    "    return y**3 - np.exp(y) + t - 1\n",
    "\n",
    "# [t, xx] = ode45(@ode2, ts, x0);\n",
    "# plot(t, xx)\n",
    "# rr = xx[-1]\n",
    "\n",
    "y = np.zeros(n)\n",
    "y[0] = x0\n",
    "for k in range(1, n):\n",
    "    yy = y[k-1] + h * ode2(y[k-1], x[k-1])\n",
    "    f1 = ode2(y[k-1], x[k-1])\n",
    "    f2 = ode2(yy, x[k])\n",
    "    y[k] = y[k-1] + h * (f1 + f2) / 2\n",
    "\n",
    "print(x[-1], y[-1])\n",
    "plt.plot(x, y, 'r')\n",
    "plt.show()\n"
   ]
  },
  {
   "cell_type": "code",
   "execution_count": null,
   "metadata": {},
   "outputs": [
    {
     "data": {
      "image/png": "[encoded data removed]",
      "text/plain": [
       "<Figure size 640x480 with 1 Axes>"
      ]
     },
     "metadata": {},
     "output_type": "display_data"
    },
    {
     "name": "stdout",
     "output_type": "stream",
     "text": [
      "2.229038962274704\n"
     ]
    }
   ],
   "source": [
    "from scipy.optimize import newton\n",
    "from scipy.integrate import quad\n",
    "import numpy as np\n",
    "from matplotlib import pyplot as plt\n",
    "\n",
    "# 计算积分并指定绝对误差小于 1e-15\n",
    "\n",
    "def f(t):\n",
    "    return np.cos(np.exp(3 / (t + 1))) * np.sin(2 * t)\n",
    "\n",
    "ts = np.linspace(0, 10, 1000)\n",
    "ys = f(ts)\n",
    "\n",
    "plt.plot(ts, ys)\n",
    "plt.hlines(0, 0, 10, linestyles='dashed')\n",
    "plt.show()\n",
    "\n",
    "def g(x):\n",
    "    result, error = quad(f, 0, x, epsabs=1e-15)\n",
    "    return result - 0.36\n",
    "\n",
    "# 设置初始猜测值为 2，最大迭代次数为 8\n",
    "result = newton(g, 2, maxiter=8)\n",
    "\n",
    "print(result)\n"
   ]
  },
  {
   "attachments": {},
   "cell_type": "markdown",
   "metadata": {},
   "source": [
    "# 4"
   ]
  },
  {
   "cell_type": "code",
   "execution_count": 6,
   "metadata": {},
   "outputs": [
    {
     "name": "stdout",
     "output_type": "stream",
     "text": [
      "  message: Optimization terminated successfully.\n",
      "  success: True\n",
      "   status: 0\n",
      "      fun: -9.142857142857135\n",
      "        x: [-1.143e+00  2.857e+00]\n",
      "      nit: 5\n",
      "      jac: [-1.192e-07  0.000e+00]\n",
      " hess_inv: [[ 5.720e-01 -4.292e-01]\n",
      "            [-4.292e-01  5.721e-01]]\n",
      "     nfev: 18\n",
      "     njev: 6\n",
      "[-1.14285723  2.85714291]\n",
      "Minimum value:  -9.142845173723813\n",
      "Argmin:  [-1.14018243  2.85344725]\n"
     ]
    }
   ],
   "source": [
    "# BFGS\n",
    "\n",
    "from scipy import optimize\n",
    "import numpy as np\n",
    "\n",
    "def fun(x):\n",
    "    x1, x2 = x\n",
    "    return 2 * x1 ** 2 + 2 * x2 **2 + 3 * x1 * x2 - 4 * x1 - 8 * x2\n",
    "\n",
    "result = optimize.minimize(fun, [0, 0], method='BFGS')\n",
    "print(result)\n",
    "x = result.x\n",
    "print(x)\n",
    "\n",
    "# 最速下降法\n",
    "\n",
    "import numpy as np\n",
    "\n",
    "def fun(x):\n",
    "    x1, x2 = x\n",
    "    return 2 * x1 ** 2 + 2 * x2 **2 + 3 * x1 * x2 - 4 * x1 - 8 * x2\n",
    "\n",
    "def grad(x):\n",
    "    x1, x2 = x\n",
    "    df_dx1 = 4 * x1 + 3 * x2 - 4\n",
    "    df_dx2 = 4 * x2 + 3 * x1 - 8\n",
    "    return np.array([df_dx1, df_dx2])\n",
    "\n",
    "def backtracking_line_search(f, grad_f, x, p, alpha=0.3, beta=0.8):\n",
    "    t = 1\n",
    "    while f(x + t * p) > f(x) + alpha * t * np.dot(grad_f(x), p):\n",
    "        t *= beta\n",
    "    return t\n",
    "\n",
    "x = np.array([0, 0])\n",
    "alpha = 0.01\n",
    "eps = 1e-2\n",
    "max_iter = 1000\n",
    "iter_count = 0\n",
    "while True:\n",
    "    iter_count += 1\n",
    "    grad_f = grad(x)\n",
    "    if np.linalg.norm(grad_f) < eps:\n",
    "        break\n",
    "    p = -grad_f\n",
    "    t = backtracking_line_search(fun, grad, x, p)\n",
    "    x = x + t * p\n",
    "    if iter_count >= max_iter:\n",
    "        break\n",
    "\n",
    "print(\"Minimum value: \", fun(x))\n",
    "print(\"Argmin: \", x)\n"
   ]
  },
  {
   "cell_type": "code",
   "execution_count": 43,
   "metadata": {},
   "outputs": [
    {
     "data": {
      "image/png": "[encoded data removed]",
      "text/plain": [
       "<Figure size 640x480 with 1 Axes>"
      ]
     },
     "metadata": {},
     "output_type": "display_data"
    },
    {
     "name": "stdout",
     "output_type": "stream",
     "text": [
      "2.229038962274704\n"
     ]
    }
   ],
   "source": [
    "import numpy as np\n",
    "import scipy.integrate as spi\n",
    "import matplotlib.pyplot as plt\n",
    "\n",
    "def f(x):\n",
    "    return np.cos(np.exp(3 / (x + 1))) * np.sin(2 * x)\n",
    "\n",
    "def calculate_z(x):\n",
    "    z = []\n",
    "    for k in range(len(x)):\n",
    "        integral, _ = spi.quad(f, 0, x[k])\n",
    "        z.append(integral)\n",
    "    return z\n",
    "\n",
    "def plot_graph(x, z):\n",
    "    plt.plot(x, z)\n",
    "    plt.plot(x, [0.36] * len(x), 'r')\n",
    "    plt.show()\n",
    "\n",
    "def calculate_xx():\n",
    "    xx = [2]\n",
    "    for k in range(8):\n",
    "        ff, _ = spi.quad(f, 0, xx[k])\n",
    "        ff -= 0.36\n",
    "        fd = np.cos(np.exp(3 / (xx[k] + 1))) * np.sin(2 * xx[k])\n",
    "        xx.append(xx[k] - ff / fd)\n",
    "    return xx[8]\n",
    "\n",
    "x = np.arange(0, 10.1, 0.1)\n",
    "z = calculate_z(x)\n",
    "plot_graph(x, z)\n",
    "result = calculate_xx()\n",
    "print(result)\n"
   ]
  },
  {
   "attachments": {},
   "cell_type": "markdown",
   "metadata": {},
   "source": [
    "# 5"
   ]
  },
  {
   "cell_type": "code",
   "execution_count": 29,
   "metadata": {},
   "outputs": [
    {
     "name": "stdout",
     "output_type": "stream",
     "text": [
      "p  = 0.4588084284002627\n",
      "accepted_region = (4.518406490932507, 7.481593509067493)\n",
      "beta_R = 0.941943063576035\n",
      "n = 10927, accepted_region_len = 0.1499987384481967 <= 0.15\n"
     ]
    }
   ],
   "source": [
    "# 5.1\n",
    "import scipy as sp \n",
    "\n",
    "n = 28\n",
    "df = n - 1\n",
    "sigma = 4\n",
    "mu_0 = 6\n",
    "x_bar_sigma = sigma / np.sqrt(n)\n",
    "\n",
    "x_bar = 6.56\n",
    "# z_stat = (x_bar - mu_0) / x_bar_sigma\n",
    "\n",
    "# N(mu=6,sigma=4)\n",
    "H_0_dist = sp.stats.norm(loc=mu_0,scale=x_bar_sigma)\n",
    "p = 2 * (1 - H_0_dist.cdf(x_bar))\n",
    "print(f\"p  = {p}\")\n",
    "\n",
    "# 5.2\n",
    "alpha = 0.05\n",
    "confidence = 1 - alpha\n",
    "\n",
    "accepted_region = H_0_dist.interval(confidence=confidence)\n",
    "print(f\"accepted_region = {accepted_region}\")\n",
    "\n",
    "mu = 6.2\n",
    "n_dist = sp.stats.norm(loc=mu,scale=x_bar_sigma)\n",
    "\n",
    "\n",
    "\n",
    "beta_R = n_dist.cdf(accepted_region[1]) - n_dist.cdf(accepted_region[0])\n",
    "print(f\"beta_R = {beta_R}\")\n",
    "\n",
    "# 5.3\n",
    "std_n_dist = sp.stats.norm(0,1)\n",
    "for n in range(10000,12000):\n",
    "    accepted_region_len = (std_n_dist.ppf(1 - alpha / 2) - std_n_dist.ppf(alpha / 2)) * sigma / np.sqrt(n)\n",
    "    # print(f\"n = {n}, accepted_region_len = {accepted_region_len} <= 0.15?\")\n",
    "    if accepted_region_len <= 0.15:\n",
    "        print(f\"n = {n}, accepted_region_len = {accepted_region_len} <= 0.15\")\n",
    "        break"
   ]
  },
  {
   "cell_type": "code",
   "execution_count": 17,
   "metadata": {},
   "outputs": [
    {
     "name": "stdout",
     "output_type": "stream",
     "text": [
      "p_value = 0.4588084284002627\n"
     ]
    }
   ],
   "source": [
    "import numpy as np\n",
    "from scipy.stats import norm\n",
    "\n",
    "def ztest(data, mean_value, variance):\n",
    "    \"\"\"\n",
    "    基于正态统计量进行一维数据均值双侧检验（在方差已知的情况下）\n",
    "\n",
    "    参数：\n",
    "    - data: 一维数组，表示观察值\n",
    "    - mean_value: 指定的均值值\n",
    "    - variance: 已知的方差值\n",
    "\n",
    "    返回值：\n",
    "    - statistic: 均值检验的统计值\n",
    "    - p_value: 均值检验的p值\n",
    "\n",
    "    \"\"\"\n",
    "\n",
    "    # 计算样本均值\n",
    "    sample_mean = np.mean(data)\n",
    "\n",
    "    # 计算样本大小\n",
    "    sample_size = len(data)\n",
    "\n",
    "    # 计算标准误差\n",
    "    standard_error = np.sqrt(variance / sample_size)\n",
    "\n",
    "    # 计算正态统计量\n",
    "    z_statistic = (sample_mean - mean_value) / standard_error\n",
    "\n",
    "    # 计算p值\n",
    "    p_value = 2 * (1 - norm.cdf(np.abs(z_statistic)))\n",
    "\n",
    "    result = (z_statistic, p_value)\n",
    "    print(result)\n",
    "    return result\n",
    "\n",
    "mean_value = 6\n",
    "variance = 16\n",
    "\n",
    "# 计算样本均值\n",
    "sample_mean = 6.56\n",
    "\n",
    "# 计算样本大小\n",
    "sample_size = 28\n",
    "\n",
    "# 计算标准误差\n",
    "standard_error = np.sqrt(variance / sample_size)\n",
    "\n",
    "# 计算正态统计量\n",
    "z_statistic = (sample_mean - mean_value) / standard_error\n",
    "\n",
    "# 计算p值\n",
    "p_value = 2 * (1 - norm.cdf(np.abs(z_statistic)))\n",
    "print(f\"p_value = {p_value}\")"
   ]
  },
  {
   "attachments": {},
   "cell_type": "markdown",
   "metadata": {},
   "source": [
    "# 6"
   ]
  },
  {
   "cell_type": "code",
   "execution_count": 30,
   "metadata": {},
   "outputs": [
    {
     "name": "stdout",
     "output_type": "stream",
     "text": [
      "1.4142135623730951\n"
     ]
    }
   ],
   "source": [
    "from scipy.optimize import newton\n",
    "from scipy.integrate import quad\n",
    "import numpy as np\n",
    "from matplotlib import pyplot as plt\n",
    "\n",
    "# 计算积分并指定绝对误差小于 1e-15\n",
    "\n",
    "def f(t):\n",
    "    return np.cos(np.exp(3 / (t + 1))) * np.sin(2 * t)\n",
    "\n",
    "ts = np.linspace(0, 10, 1000)\n",
    "ys = f(ts)\n",
    "\n",
    "plt.plot(ts, ys)\n",
    "plt.show()\n",
    "\n",
    "def g(x):\n",
    "    result, error = quad(f, 0, 1, epsabs=1e-15)\n",
    "    return x**2 - 2\n",
    "\n",
    "# 设置初始猜测值为 1.5，最大迭代次数为 8\n",
    "result = newton(g, 1.5, maxiter=8)\n",
    "\n",
    "print(result)\n"
   ]
  }
 ],
 "metadata": {
  "kernelspec": {
   "display_name": "da",
   "language": "python",
   "name": "python3"
  },
  "language_info": {
   "codemirror_mode": {
    "name": "ipython",
    "version": 3
   },
   "file_extension": ".py",
   "mimetype": "text/x-python",
   "name": "python",
   "nbconvert_exporter": "python",
   "pygments_lexer": "ipython3",
   "version": "3.10.4"
  },
  "orig_nbformat": 4
 },
 "nbformat": 4,
 "nbformat_minor": 2
}
